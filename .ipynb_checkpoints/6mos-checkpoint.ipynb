{
 "metadata": {
  "name": "",
  "signature": "sha256:45cf2e82c59ab5000775bf2d89ce40262140ae4c1a8e9241c7a59e8f2ef81108"
 },
 "nbformat": 3,
 "nbformat_minor": 0,
 "worksheets": []
}